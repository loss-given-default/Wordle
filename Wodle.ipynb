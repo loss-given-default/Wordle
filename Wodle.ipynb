{
 "cells": [
  {
   "cell_type": "markdown",
   "metadata": {},
   "source": [
    "# Wordle algorithm"
   ]
  },
  {
   "cell_type": "markdown",
   "metadata": {},
   "source": [
    "### Loading libraries and game data"
   ]
  },
  {
   "cell_type": "code",
   "execution_count": 1,
   "metadata": {},
   "outputs": [],
   "source": [
    "import csv\n",
    "import random\n",
    "import math\n",
    "\n",
    "import numpy as np\n",
    "import pandas as pd\n",
    "import matplotlib.pyplot as plt\n",
    "import Wordle_functions as wrdl\n",
    "\n",
    "from IPython.display import clear_output\n",
    "from time import sleep\n",
    "from alive_progress import alive_it, config_handler\n",
    "\n",
    "config_handler.set_global(force_tty=True, bar = \"classic2\", spinner = \"classic\", title='Playing Wordle intensively')"
   ]
  },
  {
   "cell_type": "code",
   "execution_count": 45,
   "metadata": {},
   "outputs": [],
   "source": [
    "import importlib\n",
    "importlib.reload(wrdl)\n",
    "dir(wrdl);"
   ]
  },
  {
   "cell_type": "markdown",
   "metadata": {},
   "source": [
    "The official version of Wordle has a list of words that it will allow you to enter, that are considered valid guesses, that's just about 13,000 words long. We will call the list of words all_allowed. But when you look at it there's a lot of really uncommon things things like \"aahed\" or \"aalii\" and \"aargh\". The kind of words that bring about family arguments in a game of Scrabble. But the vibe of the game is that the answer is always going to be a decently common word, and in fact there's another list of around 2,300 words that are the possible answers. We will call this list solutions. This is a human-curated list, I think specifically by the game creator's girlfriend which is kind of fun.\n",
    "But what I would like to do, our challenge for this project, is to see if we can write a program solving Wordle that doesn't incorporate previous knowledge about this list. For one thing there's plenty of pretty common five letter words that you won't find in that list, so it would be better to write a program that's a little more resilient and would play Wordle against anyone, not just what happens to be the official website. And also, the reason that we know what this list of possible answers is is because it's visible in the source code, but the way that it's visible in the source code is in the specific order in which answers come up from day to day, so you could always just look up what tomorrow's answer will be. So clearly there's some sense in which using the list is cheating, and what makes for a more interesting puzzle and a richer information theory lesson is to instead use some more universal data, like relative word frequencies in general, to capture this intuition of having a preference for more common words."
   ]
  },
  {
   "cell_type": "code",
   "execution_count": 2,
   "metadata": {},
   "outputs": [],
   "source": [
    "#Importing solutions and allowed words to lists\n",
    "csv_reader = csv.reader(open('solutions.csv', 'r'))\n",
    "solutions = list(csv_reader)[0] #contains all possible solutions\n",
    "\n",
    "csv_reader = csv.reader(open('allowed_words.csv', 'r'))\n",
    "allowed_words = list(csv_reader)[0] #contains allowed words beside solutions\n",
    "\n",
    "all_allowed = allowed_words + solutions"
   ]
  },
  {
   "cell_type": "markdown",
   "metadata": {},
   "source": [
    "### Wordle algorithms!!!"
   ]
  },
  {
   "cell_type": "markdown",
   "metadata": {},
   "source": [
    "#### Algorithm number 1: Picking random words\n",
    "It's literally just taking a random guess from all allowed words until it finds a solution\n",
    "It completly ignores information given from game"
   ]
  },
  {
   "cell_type": "code",
   "execution_count": 4,
   "metadata": {},
   "outputs": [
    {
     "name": "stdout",
     "output_type": "stream",
     "text": [
      "Playing Wordle intensively [########################################] 2309/2309 [100%] in 47.5s (48.58/s)               \n",
      "Average number of tries:\t6.4e+03\n",
      "Number of losses:\t\t2309 = 100.00%\n"
     ]
    }
   ],
   "source": [
    "#takes around 60 seconds to run\n",
    "def wordle_algorithm_1(solutions = solutions, allowed_words = all_allowed, max_tries = len(all_allowed), manual = False):\n",
    "    \"\"\"\n",
    "    Wordle algorithm mark 1\n",
    "\n",
    "        Args:\n",
    "            solutions (list):       List of solutions (str) to iterate over. Is ignored if manual == True\n",
    "            allowed_words (list):   List of strings with allowed words\n",
    "            max_tries (int):        Max number of tries before giving up\n",
    "            manual(bool):           If true, it asks for input for reply\n",
    "            \n",
    "\n",
    "        Returns:\n",
    "            taken_tries (list):     list of int how many tries it took to solve for each solution\n",
    "    \"\"\"\n",
    "\n",
    "    taken_tries = []\n",
    "    if manual: solutions = [\"a\"]\n",
    "    for s in alive_it(random.sample(solutions, len(solutions))):\n",
    "        guess = random.sample(all_allowed, len(all_allowed))\n",
    "        for i in range(max_tries):\n",
    "            if manual:\n",
    "                print(f\"Try: {guess[i]}\")\n",
    "                sleep(1)\n",
    "                reply = [int(item) for item in input(\"Wordl reply e.g. 0 2 1 0 0\").split()]\n",
    "                print(wrdl.wordle_print(reply), guess[i])\n",
    "            else:\n",
    "                reply = wrdl.wordle_reply(s, guess[i])\n",
    "            \n",
    "            #print(wrdl.wordle_print(reply), \"\", guess[i])\n",
    "            if sum(reply) == 10:\n",
    "                break\n",
    "        taken_tries.append(i+1)\n",
    "        clear_output(wait=True)\n",
    "    return taken_tries\n",
    "\n",
    "taken_tries = wordle_algorithm_1()\n",
    "invalid_guesses = [x for x in taken_tries if x > 6]\n",
    "sleep(2)\n",
    "print(f\"Average number of tries:\\t{sum(taken_tries)/len(taken_tries):.2}\")\n",
    "print(f\"Number of losses:\\t\\t{len(invalid_guesses)} = {len(invalid_guesses)/len(taken_tries):.2%}\")"
   ]
  },
  {
   "cell_type": "markdown",
   "metadata": {},
   "source": [
    "#### Algorithm number 2: Filtering word list down"
   ]
  },
  {
   "cell_type": "markdown",
   "metadata": {},
   "source": [
    "We're using the function \"filter_words\" here.\n",
    "Given a guess, a reply and a list of possible solutions, it filters the possible solution\n",
    "by throwing out all impossible solutions."
   ]
  },
  {
   "cell_type": "code",
   "execution_count": 3,
   "metadata": {},
   "outputs": [
    {
     "name": "stdout",
     "output_type": "stream",
     "text": [
      "[0, 0, 1, 1, 1]\n",
      "Original solution space: 12974. Now: 78. Reduced list by 99.40%\n"
     ]
    }
   ],
   "source": [
    "#Testing filter_words function\n",
    "solution = \"grade\"\n",
    "guess = \"cigar\"\n",
    "answer = wrdl.wordle_reply(solution, guess)\n",
    "print(answer)\n",
    "\n",
    "reduced_list = wrdl.filter_words(guess, answer, all_allowed)\n",
    "print(f\"Original solution space: {len(all_allowed)}. Now: {len(reduced_list)}. Reduced list by {1-(len(reduced_list)/len(all_allowed)):.2%}\")"
   ]
  },
  {
   "cell_type": "code",
   "execution_count": 6,
   "metadata": {},
   "outputs": [
    {
     "name": "stdout",
     "output_type": "stream",
     "text": [
      "Playing Wordle intensively [########################################] 2309/2309 [100%] in 8.5s (271.31/s)               \n"
     ]
    },
    {
     "name": "stdout",
     "output_type": "stream",
     "text": [
      "Average number of tries:\t4.9\n",
      "Number of losses:\t\t246 = 10.65%\n"
     ]
    }
   ],
   "source": [
    "#takes 10 seconds to run\n",
    "def wordle_algorithm_2(solutions = solutions, allowed_words = all_allowed, max_tries = len(all_allowed), manual = False):\n",
    "    \"\"\"\n",
    "    Wordle algorithm mark 2: Makes use of the information from wordl reply by filtering out words\n",
    "    that can't be the solution. Suggests random word from solution space that's left as next guess.\n",
    "\n",
    "        Args:\n",
    "            solutions (list):       List of solutions (str) to iterate over. Is ignored if manual == True\n",
    "            allowed_words (list):   List of strings with allowed words\n",
    "            max_tries (int):        Max number of tries before giving up\n",
    "            manual(bool):           If true, it asks for input for reply\n",
    "            \n",
    "\n",
    "        Returns:\n",
    "            taken_tries (list):     list of int how many tries it took to solve for each solution\n",
    "    \"\"\"\n",
    "    \n",
    "    taken_tries = []\n",
    "    if manual:\n",
    "        solutions = [\"a\"]\n",
    "\n",
    "    for s in alive_it(solutions):\n",
    "        guess = random.choice(allowed_words) #initial guess\n",
    "        reduced_list = allowed_words\n",
    "        #print(s)\n",
    "        for i in range(max_tries): #reduces list over iterations\n",
    "            if manual:\n",
    "                print(f\"Try: {guess}\")\n",
    "                sleep(1)\n",
    "                reply = [int(item) for item in input(\"Wordl reply e.g. 0 2 1 0 0\").split()]\n",
    "                reduced_list = wrdl.filter_words(guess, reply, allowed_words = reduced_list)\n",
    "                print(wrdl.wordle_print(reply), guess, f\"{len(reduced_list)} words\")\n",
    "            else:\n",
    "                reply = wrdl.wordle_reply(s, guess)\n",
    "                reduced_list = wrdl.filter_words(guess, reply, allowed_words = reduced_list)\n",
    "\n",
    "            guess = random.choice(reduced_list)\n",
    "\n",
    "            if sum(reply) == 10:\n",
    "                break\n",
    "        taken_tries.append(i+1)\n",
    "        clear_output(wait=True)\n",
    "    return taken_tries\n",
    "\n",
    "taken_tries = wordle_algorithm_2()\n",
    "invalid_guesses = [x for x in taken_tries if x > 6]\n",
    "sleep(2)\n",
    "print(f\"Average number of tries:\\t{sum(taken_tries)/len(taken_tries):.2}\")\n",
    "print(f\"Number of losses:\\t\\t{len(invalid_guesses)} = {len(invalid_guesses)/len(taken_tries):.2%}\")"
   ]
  },
  {
   "cell_type": "markdown",
   "metadata": {},
   "source": [
    "#### Algorithm to calculate entropy"
   ]
  },
  {
   "cell_type": "markdown",
   "metadata": {},
   "source": [
    "Now we're calculating the expected entropy per word and choose the one with the greatest E[I]. For that we first need to generate a reply map with all possible replies we could get for a guess. Next we calculate the probability that a reply shows up for a given guess. From that\n",
    "probability map we can calculate the expected entropy for a given guess. Let's test out the functions:"
   ]
  },
  {
   "cell_type": "code",
   "execution_count": 4,
   "metadata": {},
   "outputs": [
    {
     "name": "stdout",
     "output_type": "stream",
     "text": [
      "guess: weary\n",
      "reply map: [[0, 0, 0, 0, 0], [0, 0, 0, 0, 1], [0, 0, 0, 0, 2], [0, 0, 0, 1, 0]]\n",
      "reply, prob: [([0, 0, 0, 0, 0], 0.14213041467550486), ([0, 0, 0, 0, 1], 0.011484507476491445)]\n",
      "E[I]: 4.902013055555522\n",
      "Loaded hashes: 1427\n"
     ]
    }
   ],
   "source": [
    "guess = \"weary\"\n",
    "reply_map = wrdl.wordle_reply_generator()\n",
    "gpm = wrdl.guess_probability_map(guess, all_allowed)\n",
    "e = wrdl.expected_entropy_from_word(guess, all_allowed)\n",
    "entropy_db = wrdl.load_entropy_db()\n",
    "\n",
    "print(f\"guess: {guess}\")\n",
    "print(f\"reply map: {reply_map[:4]}\")\n",
    "print(f\"reply, prob: {gpm[:2]}\")\n",
    "print(f\"E[I]: {e}\")\n",
    "print(f\"Loaded hashes: {len(entropy_db)}\")"
   ]
  },
  {
   "cell_type": "code",
   "execution_count": 46,
   "metadata": {},
   "outputs": [
    {
     "name": "stderr",
     "output_type": "stream",
     "text": [
      "c:\\Users\\kverweyen\\Anaconda3\\envs\\IntroDS\\lib\\site-packages\\numpy\\core\\fromnumeric.py:43: VisibleDeprecationWarning: Creating an ndarray from ragged nested sequences (which is a list-or-tuple of lists-or-tuples-or ndarrays with different lengths or shapes) is deprecated. If you meant to do this, you must specify 'dtype=object' when creating the ndarray.\n",
      "  result = getattr(asarray(obj), method)(*args, **kwds)\n"
     ]
    }
   ],
   "source": [
    "wrdl.save_entropy_db(entropy_db)"
   ]
  },
  {
   "cell_type": "code",
   "execution_count": 8,
   "metadata": {},
   "outputs": [
    {
     "data": {
      "image/png": "[encoded data removed]",
      "text/plain": [
       "<Figure size 432x288 with 1 Axes>"
      ]
     },
     "metadata": {
      "needs_background": "light"
     },
     "output_type": "display_data"
    }
   ],
   "source": [
    "#plotting probability map for example word -> how likely each pattern is\n",
    "guess = \"weary\"\n",
    "gpm = wrdl.guess_probability_map(guess, all_allowed)\n",
    "gpm = sorted(gpm, key=lambda tup: tup[1], reverse = True) #sorts the list\n",
    "x, y = zip(*gpm)\n",
    "x = [str(i) for i in x]\n",
    "\n",
    "# x = df.index.values.tolist()\n",
    "# y = df[\"Probability\"].tolist()\n",
    "\n",
    "fig = plt.figure()\n",
    "ax = fig.add_axes([0,0,1,1])\n",
    "ax.bar(x,y)\n",
    "plt.xticks(np.arange(0, len(x)+1, 10), rotation=90)\n",
    "\n",
    "plt.title(f\"Probability that each pattern appears for the word {guess}\")\n",
    "plt.show()"
   ]
  },
  {
   "cell_type": "code",
   "execution_count": 44,
   "metadata": {},
   "outputs": [],
   "source": [
    "def wordle_algorithm_3(solutions = solutions, allowed_words = all_allowed, \\\n",
    "    max_tries = len(all_allowed), manual = False, verbose = False, entropy_db = entropy_db):\n",
    "    \"\"\"\n",
    "    Wordle algorithm mark 3: Makes use of the information from wordl reply by filtering out words\n",
    "    that can't be the solution. Suggests guess with highest expected entropy from reduced solution\n",
    "    space as next guess.\n",
    "\n",
    "        Args:\n",
    "            solutions (list):       List of solutions (str) to iterate over. Is ignored if manual == True\n",
    "            allowed_words (list):   List of strings with allowed words\n",
    "            max_tries (int):        Max number of tries before giving up\n",
    "            manual(bool):           If true, it asks for input for reply\n",
    "            verbose(bool):          If true lots of stuff is printed\n",
    "            entropy_db(dict):       Dictionary of hashes with entropy list\n",
    "            \n",
    "        Returns:\n",
    "            taken_tries (list):     list of int how many tries it took to solve for each solution\n",
    "    \"\"\"\n",
    "    \n",
    "    taken_tries = []\n",
    "    reply = []\n",
    "    len_db = len(entropy_db)\n",
    "    if manual:\n",
    "        solutions = [\"manual\"]\n",
    "\n",
    "    bar = alive_it(solutions)\n",
    "    for s in bar:\n",
    "        hash_list = []\n",
    "        allowed_words = sorted(allowed_words)\n",
    "        reduced_list = allowed_words\n",
    "        reduced_reply_map = wrdl.wordle_reply_generator()\n",
    "        bar.title = f\"-> Currently solving {s}\"\n",
    "        \n",
    "        if verbose: print(s)\n",
    "        for i in range(max_tries):\n",
    "            cur_hash = str(hash_list)\n",
    "            if len(reduced_list) == 1:\n",
    "                guess = reduced_list[0]\n",
    "                EI = 0\n",
    "            else:\n",
    "                if cur_hash in entropy_db:\n",
    "                    entropies_list = entropy_db[cur_hash]\n",
    "                else:   \n",
    "                    #get all E[I] for reduced list\n",
    "                    entropies_list = []\n",
    "                    #bar.title = f\"-> Calculating entropies | {s}\"\n",
    "                    tmp = len(all_allowed)\n",
    "                    tmp2 = 1\n",
    "                    for word in allowed_words:\n",
    "                        bar.title = f\"-> Calculating entropies | {tmp2}/{tmp}\"\n",
    "                        entropies_list.append(wrdl.expected_entropy_from_word(word, word_list = reduced_list, reply_map = reduced_reply_map))\n",
    "                        tmp2 += 1\n",
    "                    \n",
    "                    entropy_db[cur_hash] = entropies_list\n",
    "                guess = allowed_words[entropies_list.index(max(entropies_list))]\n",
    "                EI = float(max(entropies_list))\n",
    "            if manual: \n",
    "                print(f\"Guess: {guess}\\tE[I]:{EI:.2f} bits\")\n",
    "                sleep(1)\n",
    "                if EI == 0: \n",
    "                    reply = [2, 2, 2, 2, 2]\n",
    "                else:\n",
    "                    reply = [int(item) for item in input(\"Wordl reply e.g. 0 2 1 0 0\").split()]\n",
    "            else: reply = wrdl.wordle_reply(s, guess)\n",
    "            hash_list.append((guess, reply))\n",
    "\n",
    "            if sum(reply) == 10: \n",
    "                inf = math.log2(len(reduced_list)) #1/(1/x) = x\n",
    "                if manual or verbose: print(wrdl.wordle_print(reply), guess, f\"E[I]:{EI:.2f} bits \", f\"I:{inf:.2f} bits \", f\"✔️\")\n",
    "                break\n",
    "        \n",
    "            reduced_list_before = reduced_list\n",
    "            reduced_list = wrdl.filter_words(guess, reply, allowed_words = reduced_list)\n",
    "            p = len(reduced_list) / len(reduced_list_before)  \n",
    "            inf = math.log2(1/p)\n",
    "            if manual or verbose: print(wrdl.wordle_print(reply), guess, f\"E[I]:{EI:.2f} bits \", f\"I:{inf:.2f} bits \", f\"{len(reduced_list)} words\")\n",
    "            if (manual or verbose) and 1 < len(reduced_list) < 16: print(reduced_list)\n",
    "\n",
    "        taken_tries.append(i+1)\n",
    "        if not manual: clear_output(wait=True)\n",
    "\n",
    "    if len(entropy_db) > len_db and manual == False:\n",
    "        wrdl.save_entropy_db(entropy_db)\n",
    "        print(f\"Pickled hashes updated - new len: {len(entropy_db)}\")\n",
    "    \n",
    "    return taken_tries"
   ]
  },
  {
   "cell_type": "code",
   "execution_count": 10,
   "metadata": {},
   "outputs": [
    {
     "name": "stdout",
     "output_type": "stream",
     "text": [
      "-> Currently solving fanny [########################################] 2309/2309 [100%] in 3:34.0 (10.79/s)              \n",
      "Average number of tries:\t4.1\n",
      "Number of losses:\t\t0 = 0.00%\n"
     ]
    }
   ],
   "source": [
    "#takes xx minutes to run\n",
    "taken_tries = wordle_algorithm_3(solutions, verbose = True)\n",
    "invalid_guesses = [x for x in taken_tries if x > 6]\n",
    "\n",
    "sleep(1)\n",
    "print(f\"Average number of tries:\\t{sum(taken_tries)/len(taken_tries):.2}\")\n",
    "print(f\"Number of losses:\\t\\t{len(invalid_guesses)} = {len(invalid_guesses)/len(taken_tries):.2%}\")"
   ]
  },
  {
   "cell_type": "code",
   "execution_count": 15,
   "metadata": {},
   "outputs": [
    {
     "name": "stdout",
     "output_type": "stream",
     "text": [
      "-> Currently solving fanny [########################################] 2309/2309 [100%] in 3:05.4 (12.46/s)              \n",
      "Average number of tries:\t4.118666089216111\n",
      "Number of losses:\t\t0 = 0.0\n"
     ]
    }
   ],
   "source": [
    "#takes xx minutes to run\n",
    "taken_tries = wordle_algorithm_3(solutions, verbose = False)\n",
    "invalid_guesses = [x for x in taken_tries if x > 6]\n",
    "\n",
    "sleep(1)\n",
    "print(f\"Average number of tries:\\t{sum(taken_tries)/len(taken_tries)}\")\n",
    "print(f\"Number of losses:\\t\\t{len(invalid_guesses)} = {len(invalid_guesses)/len(taken_tries)}\")"
   ]
  },
  {
   "cell_type": "code",
   "execution_count": 20,
   "metadata": {},
   "outputs": [
    {
     "name": "stdout",
     "output_type": "stream",
     "text": [
      "on 0: Guess: tares\tE[I]:6.19 bits                                                                                       \n",
      "on 0: ⬜⬜⬜⬜⬜ tares E[I]:6.19 bits  I:3.92 bits  858 words                                                                \n",
      "on 0: Guess: colin\tE[I]:5.93 bits                                                                                       \n",
      "on 0: 🟨⬜⬜⬜🟨 colin E[I]:5.93 bits  I:7.42 bits  5 words                                                                \n",
      "on 0: ['bunch', 'dunch', 'hunch', 'munch', 'punch']                                                                     \n",
      "on 0: Guess: abamp\tE[I]:1.92 bits                                                                                       \n",
      "on 0: ⬜⬜⬜⬜⬜ abamp E[I]:1.92 bits  I:1.32 bits  2 words                                                                  \n",
      "on 0: ['dunch', 'hunch']                                                                                                \n",
      "on 0: Guess: aahed\tE[I]:1.00 bits                                                                                       \n",
      "on 0: ⬜⬜🟨⬜⬜ aahed E[I]:1.00 bits  I:1.00 bits  1 words                                                                 \n",
      "on 0: Guess: hunch\tE[I]:0.00 bits                                                                                       \n",
      "on 0: 🟩🟩🟩🟩🟩 hunch E[I]:0.00 bits  I:0.00 bits  ✔️                                                                  \n",
      "-> Currently solving manual [########################################] 1/1 [100%] in 30.8s (0.03/s)                     \n"
     ]
    }
   ],
   "source": [
    "taken_tries = wordle_algorithm_3(solutions, manual = True)"
   ]
  },
  {
   "cell_type": "code",
   "execution_count": 35,
   "metadata": {},
   "outputs": [
    {
     "data": {
      "text/plain": [
       "4.22867042009528"
      ]
     },
     "execution_count": 35,
     "metadata": {},
     "output_type": "execute_result"
    }
   ],
   "source": [
    "sum(taken_tries)/len(taken_tries)"
   ]
  },
  {
   "cell_type": "code",
   "execution_count": 19,
   "metadata": {},
   "outputs": [
    {
     "data": {
      "text/plain": [
       "True"
      ]
     },
     "execution_count": 19,
     "metadata": {},
     "output_type": "execute_result"
    }
   ],
   "source": [
    "\"hunch\" in all_allowed"
   ]
  }
 ],
 "metadata": {
  "interpreter": {
   "hash": "b6a80ca726305f44597a2f909b66d8c732c11be335c75c86f128deebf172ac59"
  },
  "kernelspec": {
   "display_name": "Python 3.9.7 ('introDS')",
   "language": "python",
   "name": "python3"
  },
  "language_info": {
   "codemirror_mode": {
    "name": "ipython",
    "version": 3
   },
   "file_extension": ".py",
   "mimetype": "text/x-python",
   "name": "python",
   "nbconvert_exporter": "python",
   "pygments_lexer": "ipython3",
   "version": "3.9.7"
  },
  "orig_nbformat": 4
 },
 "nbformat": 4,
 "nbformat_minor": 2
}
