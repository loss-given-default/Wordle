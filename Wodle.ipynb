{
 "cells": [
  {
   "cell_type": "markdown",
   "metadata": {},
   "source": [
    "# Wordle algorithm"
   ]
  },
  {
   "cell_type": "markdown",
   "metadata": {},
   "source": [
    "### Loading libraries and game data"
   ]
  },
  {
   "cell_type": "code",
   "execution_count": 1,
   "metadata": {},
   "outputs": [],
   "source": [
    "import csv\n",
    "\n",
    "import numpy as np\n",
    "import matplotlib.pyplot as plt\n",
    "import matplotlib.ticker as plticker\n",
    "import Wordle_functions as wrdl\n",
    "import Wordle_algo as algo\n",
    "\n",
    "from IPython.display import clear_output\n",
    "from time import sleep"
   ]
  },
  {
   "cell_type": "code",
   "execution_count": 2,
   "metadata": {},
   "outputs": [],
   "source": [
    "import importlib\n",
    "importlib.reload(wrdl)\n",
    "importlib.reload(algo)\n",
    "dir(wrdl);"
   ]
  },
  {
   "cell_type": "markdown",
   "metadata": {},
   "source": [
    "The official version of Wordle has a list of words that it will allow you to enter, that are considered valid guesses, that's just about 13,000 words long. We will call the list of words all_allowed. But when you look at it there's a lot of really uncommon things things like \"aahed\" or \"aalii\" and \"aargh\". The kind of words that bring about family arguments in a game of Scrabble. But the vibe of the game is that the answer is always going to be a decently common word, and in fact there's another list of around 2,300 words that are the possible answers. We will call this list solutions. This is a human-curated list, I think specifically by the game creator's girlfriend which is kind of fun.\n",
    "But what I would like to do, our challenge for this project, is to see if we can write a program solving Wordle that doesn't incorporate previous knowledge about this list. For one thing there's plenty of pretty common five letter words that you won't find in that list, so it would be better to write a program that's a little more resilient and would play Wordle against anyone, not just what happens to be the official website. And also, the reason that we know what this list of possible answers is is because it's visible in the source code, but the way that it's visible in the source code is in the specific order in which answers come up from day to day, so you could always just look up what tomorrow's answer will be. So clearly there's some sense in which using the list is cheating, and what makes for a more interesting puzzle and a richer information theory lesson is to instead use some more universal data, like relative word frequencies in general, to capture this intuition of having a preference for more common words."
   ]
  },
  {
   "cell_type": "code",
   "execution_count": 3,
   "metadata": {},
   "outputs": [],
   "source": [
    "#Importing solutions and allowed words to lists\n",
    "csv_reader = csv.reader(open('solutions.csv', 'r'))\n",
    "solutions = list(csv_reader)[0] #contains all possible solutions\n",
    "\n",
    "csv_reader = csv.reader(open('allowed_words.csv', 'r'))\n",
    "allowed_words = list(csv_reader)[0] #contains allowed words beside solutions\n",
    "\n",
    "all_allowed = allowed_words + solutions"
   ]
  },
  {
   "cell_type": "markdown",
   "metadata": {},
   "source": [
    "### Wordle algorithms!!!"
   ]
  },
  {
   "cell_type": "markdown",
   "metadata": {},
   "source": [
    "#### Algorithm number 1: Picking random words\n",
    "It's literally just taking a random guess from all allowed words until it finds a solution\n",
    "It completly ignores information given from game"
   ]
  },
  {
   "cell_type": "code",
   "execution_count": 4,
   "metadata": {},
   "outputs": [
    {
     "name": "stdout",
     "output_type": "stream",
     "text": [
      "Average number of tries:\t6.5e+03\n",
      "Number of losses:\t\t2308 = 99.96%\n"
     ]
    }
   ],
   "source": [
    "#takes 2 minutes to run\n",
    "taken_tries_algo_1 = algo.wordle_algorithm_1(solutions, all_allowed, bar=True)\n",
    "invalid_guesses = [x for x in taken_tries_algo_1 if x > 6]\n",
    "clear_output(wait=True)\n",
    "sleep(2)\n",
    "print(f\"Average number of tries:\\t{sum(taken_tries_algo_1)/len(taken_tries_algo_1):.2}\")\n",
    "print(f\"Number of losses:\\t\\t{len(invalid_guesses)} = {len(invalid_guesses)/len(taken_tries_algo_1):.2%}\")"
   ]
  },
  {
   "cell_type": "markdown",
   "metadata": {},
   "source": [
    "#### Algorithm number 2: Filtering word list down"
   ]
  },
  {
   "cell_type": "markdown",
   "metadata": {},
   "source": [
    "We're using the function \"filter_words\" here.\n",
    "Given a guess, a reply and a list of possible solutions, it filters the possible solution\n",
    "by throwing out all impossible solutions."
   ]
  },
  {
   "cell_type": "code",
   "execution_count": 5,
   "metadata": {},
   "outputs": [
    {
     "name": "stdout",
     "output_type": "stream",
     "text": [
      "⬜⬜🟨🟨🟨\n",
      "[0, 0, 1, 1, 1]\n",
      "Original solution space: 12974. Now: 78. Reduced list by 99.40%\n"
     ]
    }
   ],
   "source": [
    "#Testing filter_words function\n",
    "solution = \"grade\"\n",
    "guess = \"cigar\"\n",
    "answer = wrdl.wordle_reply(solution, guess)\n",
    "print(wrdl.wordle_print(answer))\n",
    "print(answer)\n",
    "\n",
    "reduced_list = wrdl.filter_words(guess, answer, all_allowed)\n",
    "print(f\"Original solution space: {len(all_allowed)}. Now: {len(reduced_list)}. Reduced list by {1-(len(reduced_list)/len(all_allowed)):.2%}\")"
   ]
  },
  {
   "cell_type": "code",
   "execution_count": 6,
   "metadata": {},
   "outputs": [
    {
     "name": "stdout",
     "output_type": "stream",
     "text": [
      "Average number of tries:\t4.901\n",
      "Number of losses:\t\t261 = 11.30%\n"
     ]
    }
   ],
   "source": [
    "#takes 15 seconds to run\n",
    "taken_tries_algo_2 = algo.wordle_algorithm_2(solutions, all_allowed)\n",
    "invalid_guesses = [x for x in taken_tries_algo_2 if x > 6]\n",
    "clear_output(wait=True)\n",
    "sleep(1)\n",
    "print(f\"Average number of tries:\\t{sum(taken_tries_algo_2)/len(taken_tries_algo_2):.4}\")\n",
    "print(f\"Number of losses:\\t\\t{len(invalid_guesses)} = {len(invalid_guesses)/len(taken_tries_algo_2):.2%}\")"
   ]
  },
  {
   "cell_type": "markdown",
   "metadata": {},
   "source": [
    "#### Algorithm 3 Choosing word with highest expected information"
   ]
  },
  {
   "cell_type": "markdown",
   "metadata": {},
   "source": [
    "Now we're calculating the expected entropy per word and choose the one with the greatest E[I]. For that we first need to generate a reply map with all possible replies we could get for a guess. Next we calculate the probability that a reply shows up for a given guess. From that\n",
    "probability map we can calculate the expected entropy for a given guess. Let's test out the functions:"
   ]
  },
  {
   "cell_type": "code",
   "execution_count": 7,
   "metadata": {},
   "outputs": [
    {
     "name": "stdout",
     "output_type": "stream",
     "text": [
      "guess: sissy\n",
      "reply map: [[0, 0, 0, 0, 0], [0, 0, 0, 0, 1], [0, 0, 0, 0, 2], [0, 0, 0, 1, 0]]\n",
      "reply, prob: [([0, 0, 0, 0, 0], 0.2880376136888909), ([0, 0, 0, 0, 1], 0.024587636812085794)]\n",
      "E[I]: 3.6985986851208272\n",
      "Loaded hashes: 3765\n"
     ]
    }
   ],
   "source": [
    "guess = \"sissy\"\n",
    "reply_map = wrdl.wordle_reply_generator()\n",
    "gpm = wrdl.guess_probability_map(guess, all_allowed, {k: (1/len(all_allowed)) for k in all_allowed})\n",
    "e = wrdl.expected_entropy_from_word(guess, all_allowed)\n",
    "entropy_db = wrdl.load_entropy_db(\"entropy_db\")\n",
    "uniform_freq_map = {word: 1 for word in all_allowed}\n",
    "\n",
    "clear_output(wait=True)\n",
    "print(f\"guess: {guess}\")\n",
    "print(f\"reply map: {reply_map[:4]}\")\n",
    "print(f\"reply, prob: {gpm[:2]}\")\n",
    "print(f\"E[I]: {e}\")\n",
    "print(f\"Loaded hashes: {len(entropy_db)}\")"
   ]
  },
  {
   "cell_type": "code",
   "execution_count": 8,
   "metadata": {},
   "outputs": [
    {
     "data": {
      "image/png": "[encoded data removed]",
      "text/plain": [
       "<Figure size 432x288 with 1 Axes>"
      ]
     },
     "metadata": {
      "needs_background": "light"
     },
     "output_type": "display_data"
    }
   ],
   "source": [
    "#plotting probability map for example word -> how likely each pattern is\n",
    "guess = \"sissy\"\n",
    "gpm = wrdl.guess_probability_map(guess, all_allowed, {k: (1/len(all_allowed)) for k in all_allowed}) #uniform freq map must sum up to 1\n",
    "gpm = sorted(gpm, key=lambda tup: tup[1], reverse = True) #sorts the list\n",
    "x, y = zip(*gpm)\n",
    "x = [str(i) for i in x]\n",
    "e = wrdl.expected_entropy_from_word(guess, all_allowed)\n",
    "\n",
    "fig = plt.figure()\n",
    "ax = fig.add_axes([0,0,1,1])\n",
    "ax.bar(x,y)\n",
    "plt.xticks(np.arange(0, len(x)+1, 10), rotation=90)\n",
    "#plt.ylim(0, 0.5)\n",
    "\n",
    "plt.title(f\"Probability that each pattern appears for the word {guess} E[I]: {e:.2f} bits\")\n",
    "plt.show()"
   ]
  },
  {
   "cell_type": "code",
   "execution_count": 9,
   "metadata": {},
   "outputs": [
    {
     "name": "stdout",
     "output_type": "stream",
     "text": [
      "Average number of tries:\t3.965\n",
      "Number of losses:\t\t1 = 0.04%\n"
     ]
    }
   ],
   "source": [
    "#takes 6 minutes to run\n",
    "history_algo3 = algo.wordle_algorithm_4(solutions, all_allowed, verbose = False, entropy_db = entropy_db, freq_map = uniform_freq_map, bar = True)\n",
    "invalid = [i[-1][0] for i in list(history_algo3.values()) if i[-1][0] > 6]\n",
    "clear_output(wait=True)\n",
    "sleep(1)\n",
    "tries = sum(i[-1][0] for i in list(history_algo3.values()))\n",
    "print(f\"Average number of tries:\\t{tries/len(history_algo3):.4}\")\n",
    "print(f\"Number of losses:\\t\\t{len(invalid)} = {len(invalid)/len(history_algo3):.2%}\")"
   ]
  },
  {
   "cell_type": "markdown",
   "metadata": {},
   "source": [
    "### Algorithm 4: Taking word frequency into account"
   ]
  },
  {
   "cell_type": "markdown",
   "metadata": {},
   "source": [
    "Currently, our best algorithm doesn't know which word is most likely to be the solution. When it is torn between 2 words, it doesn't take into account that 1 word is more common than the other. Let's change that."
   ]
  },
  {
   "cell_type": "markdown",
   "metadata": {},
   "source": [
    "Source of word frequency data: https://www.kaggle.com/datasets/rtatman/english-word-frequency?resource=download"
   ]
  },
  {
   "cell_type": "code",
   "execution_count": 10,
   "metadata": {},
   "outputs": [],
   "source": [
    "#loading word frequency dataset and creating dictionary of word frequency for all allowed words\n",
    "with open('unigram_freq.csv', 'r') as x:\n",
    "    csv_reader = csv.reader(x)\n",
    "    word_frequency_dict = list(csv_reader)\n",
    "\n",
    "del word_frequency_dict[0] #delete headers\n",
    "word_frequency_dict = [(i, int(j)) for i, j in word_frequency_dict]\n",
    "total = sum(j for i, j in word_frequency_dict)\n",
    "word_frequency_dict = dict((i, j/total) for i, j in word_frequency_dict)\n",
    "\n",
    "all_allowed_freq = {}\n",
    "mini = min(word_frequency_dict.values())\n",
    "\n",
    "for word in all_allowed:\n",
    "    if word in word_frequency_dict:\n",
    "        all_allowed_freq[word] = word_frequency_dict[word]\n",
    "    else: \n",
    "        all_allowed_freq[word] = mini"
   ]
  },
  {
   "cell_type": "code",
   "execution_count": 11,
   "metadata": {},
   "outputs": [
    {
     "data": {
      "image/png": "[encoded data removed]",
      "text/plain": [
       "<Figure size 432x288 with 1 Axes>"
      ]
     },
     "metadata": {
      "needs_background": "light"
     },
     "output_type": "display_data"
    }
   ],
   "source": [
    "#plotting most common 5-letter-words\n",
    "plot_data = sorted(all_allowed_freq.items(), key=lambda tup: tup[1])\n",
    "fig, ax = plt.subplots()\n",
    "plt.barh(*zip(*plot_data[-12:]))\n",
    "plt.tick_params(\n",
    "    axis='x',          # changes apply to the x-axis\n",
    "    which='both',      # both major and minor ticks are affected\n",
    "    bottom=False,      # ticks along the bottom edge are off\n",
    "    top=False,         # ticks along the top edge are off\n",
    "    labelbottom=False) # labels along the bottom edge are off\n",
    "ax.spines['top'].set_visible(False)\n",
    "ax.spines['right'].set_visible(False)\n",
    "ax.spines['bottom'].set_visible(False)\n",
    "ax.spines['left'].set_visible(False)\n",
    "#plt.savefig(\"common_words.svg\")\n",
    "plt.show()"
   ]
  },
  {
   "cell_type": "code",
   "execution_count": 12,
   "metadata": {},
   "outputs": [
    {
     "name": "stdout",
     "output_type": "stream",
     "text": [
      "Avg. probability solution \t80.55%\n",
      "Avg. probability all words \t27.77%\n"
     ]
    }
   ],
   "source": [
    "all_allowed_freq_sigmoid = algo.apply_sigmoid(all_allowed_freq,10,-0.5)\n",
    "\n",
    "tmp2 = {}\n",
    "for s in solutions:\n",
    "    tmp2[s] = all_allowed_freq_sigmoid[s]\n",
    "\n",
    "print(f\"Avg. probability solution \\t{np.mean(list(tmp2.values())):.2%}\")\n",
    "print(f\"Avg. probability all words \\t{np.mean(list(all_allowed_freq_sigmoid.values())):.2%}\")"
   ]
  },
  {
   "cell_type": "code",
   "execution_count": 13,
   "metadata": {},
   "outputs": [
    {
     "data": {
      "text/plain": [
       "(0.0, 1.0)"
      ]
     },
     "execution_count": 13,
     "metadata": {},
     "output_type": "execute_result"
    },
    {
     "data": {
      "image/png": "[encoded data removed]",
      "text/plain": [
       "<Figure size 432x288 with 1 Axes>"
      ]
     },
     "metadata": {
      "needs_background": "light"
     },
     "output_type": "display_data"
    }
   ],
   "source": [
    "#Takes 7 minutes to run\n",
    "plot_data = list(all_allowed_freq_sigmoid.items())\n",
    "plot_data.sort(key=lambda x:x[1]) #sort by frequency\n",
    "\n",
    "fig, ax = plt.subplots()\n",
    "for word in plot_data:\n",
    "    if word[0] in solutions: c = \"red\"\n",
    "    else: c = \"royalblue\"\n",
    "    ax.scatter(word[0], word[1], c = c, s = 10, alpha = 0.01, marker = \"o\")\n",
    "    \n",
    "loc = plticker.MultipleLocator(base=2000.0) # this locator puts ticks at regular intervals\n",
    "ax.xaxis.set_major_locator(loc)\n",
    "\n",
    "plt.xlabel('Word')\n",
    "plt.ylabel('Probability to be in the solution list') \n",
    "plt.title('Word probability after sigmoid transformation')\n",
    "plt.ylim(0, 1)\n",
    "#plt.savefig(\"sigmoid.svg\")"
   ]
  },
  {
   "cell_type": "code",
   "execution_count": 14,
   "metadata": {},
   "outputs": [
    {
     "name": "stdout",
     "output_type": "stream",
     "text": [
      "Entropy without freq:\t13.663335723475091 bits\n",
      "Entropy with freq:\t12.013403606081802 bits\n",
      "\n",
      "guess:\t\t\ttares\n",
      "E[I] without freq:\t6.194226640047044 bits\n",
      "E[I] with freq:\t\t6.29517587573422 bits\n"
     ]
    }
   ],
   "source": [
    "guess = \"tares\"\n",
    "e = wrdl.expected_entropy_from_word(guess, all_allowed)\n",
    "e_freq = wrdl.expected_entropy_from_word(guess, all_allowed, freq_map = all_allowed_freq_sigmoid)\n",
    "\n",
    "total_e = wrdl.entropy_from_distribution(uniform_freq_map, all_allowed)  \n",
    "total_e_freq = wrdl.entropy_from_distribution(all_allowed_freq_sigmoid, all_allowed)  \n",
    "\n",
    "print(f\"Entropy without freq:\\t{total_e} bits\")\n",
    "print(f\"Entropy with freq:\\t{total_e_freq} bits\\n\")\n",
    "print(f\"guess:\\t\\t\\t{guess}\")\n",
    "print(f\"E[I] without freq:\\t{e} bits\")\n",
    "print(f\"E[I] with freq:\\t\\t{e_freq} bits\")"
   ]
  },
  {
   "cell_type": "code",
   "execution_count": 15,
   "metadata": {},
   "outputs": [
    {
     "name": "stdout",
     "output_type": "stream",
     "text": [
      "Average number of tries:\t3.799\n",
      "Number of losses:\t\t0 = 0.00%\n"
     ]
    }
   ],
   "source": [
    "#takes 16 minutes to run\n",
    "history_algo_4 = algo.wordle_algorithm_4(solutions, all_allowed, verbose = False, entropy_db = entropy_db, freq_map = all_allowed_freq_sigmoid, bar = True)\n",
    "invalid = [i[-1][0] for i in list(history_algo_4.values()) if i[-1][0] > 6]\n",
    "clear_output(wait=True)\n",
    "sleep(1)\n",
    "tries = sum(i[-1][0] for i in list(history_algo_4.values()))\n",
    "print(f\"Average number of tries:\\t{tries/len(history_algo_4):.4}\")\n",
    "print(f\"Number of losses:\\t\\t{len(invalid)} = {len(invalid)/len(history_algo_4):.2%}\")\n",
    "#3.82 before"
   ]
  },
  {
   "cell_type": "markdown",
   "metadata": {},
   "source": [
    "### Algorithm 5"
   ]
  },
  {
   "cell_type": "markdown",
   "metadata": {},
   "source": [
    "Let's use a score rather than just maximising expected information. Sometimes it's better to choose a word with less expected information if it is very likely to be the solution"
   ]
  },
  {
   "cell_type": "code",
   "execution_count": 41,
   "metadata": {},
   "outputs": [
    {
     "name": "stdout",
     "output_type": "stream",
     "text": [
      "Regression parameters:\n"
     ]
    },
    {
     "data": {
      "text/plain": [
       "(-0.012405539570697632, 0.3642899622411526, 1.1890485932345454)"
      ]
     },
     "execution_count": 41,
     "metadata": {},
     "output_type": "execute_result"
    },
    {
     "data": {
      "image/png": "[encoded data removed]",
      "text/plain": [
       "<Figure size 432x288 with 1 Axes>"
      ]
     },
     "metadata": {
      "needs_background": "light"
     },
     "output_type": "display_data"
    }
   ],
   "source": [
    "x = []\n",
    "y = []\n",
    "\n",
    "for i in history_algo_4.values():\n",
    "    for j in range(len(i)):\n",
    "        x.append(i[j][1])\n",
    "        y.append(len(i) - j)\n",
    "        #print(i[j])\n",
    "\n",
    "x, y = zip(*sorted(zip(x, y)))\n",
    "\n",
    "x = np.array(x)\n",
    "y = np.array(y)\n",
    "plt.scatter(x, y, alpha = 0.01, label =\"Game data\", s = 10, c = \"darkslateblue\")\n",
    "a, b, c = np.polyfit(x, y, 2)\n",
    "plt.plot(x, (a*pow(x, 2) + b*x +c), c = \"indigo\", alpha = 0.5, label = \"Polynomial fit\")\n",
    "plt.xlabel('Remaining entropy in game')\n",
    "plt.ylabel('Number of guesses to solve') \n",
    "plt.title('Entropy vs required guesses')\n",
    "#plt.legend()\n",
    "#plt.savefig(\"polynomial.svg\")\n",
    "print(\"Regression parameters:\")\n",
    "a, b, c"
   ]
  },
  {
   "cell_type": "code",
   "execution_count": 17,
   "metadata": {},
   "outputs": [
    {
     "name": "stdout",
     "output_type": "stream",
     "text": [
      "Average number of tries:\t3.645\n",
      "Number of losses:\t\t9 = 0.39%\n"
     ]
    }
   ],
   "source": [
    "#Takes 25 minutes to run\n",
    "(a, b, c) = (-0.012405539570697632, 0.3642899622411526, 1.1890485932345454)\n",
    "history_algo_5 = algo.wordle_algorithm_4(solutions, all_allowed, verbose = False, entropy_db = entropy_db, freq_map = all_allowed_freq_sigmoid, bar = True, custom_score = (a, b, c), jup = True)\n",
    "invalid = [i[-1][0] for i in list(history_algo_5.values()) if i[-1][0] > 6]\n",
    "clear_output(wait=True)\n",
    "sleep(1)\n",
    "tries = sum(i[-1][0] for i in list(history_algo_5.values()))\n",
    "print(f\"Average number of tries:\\t{tries/len(history_algo_5):.4}\")\n",
    "print(f\"Number of losses:\\t\\t{len(invalid)} = {len(invalid)/len(history_algo_5):.2%}\")"
   ]
  },
  {
   "cell_type": "code",
   "execution_count": 60,
   "metadata": {},
   "outputs": [
    {
     "data": {
      "text/plain": [
       "Text(0.5, 1.0, 'Algorithm 4.5')"
      ]
     },
     "execution_count": 60,
     "metadata": {},
     "output_type": "execute_result"
    },
    {
     "data": {
      "image/png": "[encoded data removed]",
      "text/plain": [
       "<Figure size 1080x288 with 3 Axes>"
      ]
     },
     "metadata": {},
     "output_type": "display_data"
    }
   ],
   "source": [
    "x_ = []  \n",
    "y_ = []  \n",
    "\n",
    "for i in history_algo_5.values():\n",
    "    for j in range(len(i)):\n",
    "        x_.append(i[j][1])\n",
    "        y_.append(len(i) - j)\n",
    "\n",
    "x_, y_ = zip(*sorted(zip(x_, y_)))\n",
    "\n",
    "x_ = np.array(x_)\n",
    "y_ = np.array(y_)\n",
    "\n",
    "fig = plt.figure()\n",
    "fig.set_size_inches(15, 4)\n",
    "ax = fig.add_subplot(111) \n",
    "ax1 = fig.add_subplot(121)\n",
    "ax2 = fig.add_subplot(122)\n",
    "ax1.set_ylim(0,8)\n",
    "ax2.set_ylim(0,8)\n",
    "\n",
    "# Turn off axis lines and ticks of the big subplot\n",
    "ax.spines['top'].set_color('none')\n",
    "ax.spines['bottom'].set_color('none')\n",
    "ax.spines['left'].set_color('none')\n",
    "ax.spines['right'].set_color('none')\n",
    "ax.tick_params(labelcolor='w', top=False, bottom=False, left=False, right=False)\n",
    "\n",
    "ax2.scatter(x_, y_, alpha = 0.01, label =\"Game data\", s = 10, c = \"darkslateblue\")\n",
    "a, b, c = np.polyfit(x, y, 2)\n",
    "ax2.plot(x_, (a*pow(x_, 2) + b*x_ +c), c = \"indigo\", alpha = 0.5, label = \"Polynomial fit\")\n",
    "\n",
    "ax1.scatter(x, y, alpha = 0.01, label =\"Game data\", s = 10, c = \"darkslateblue\")\n",
    "a, b, c = np.polyfit(x, y, 2)\n",
    "ax1.plot(x, (a*pow(x, 2) + b*x +c), c = \"indigo\", alpha = 0.5, label = \"Polynomial fit\")\n",
    "\n",
    "ax1.set_xlabel('Remaining entropy in game')\n",
    "ax2.set_xlabel('Remaining entropy in game')\n",
    "ax.set_ylabel('Number of guesses to solve') \n",
    "#ax.set_title('Entropy vs required guesses')\n",
    "ax1.set_title('Algorithm 4')\n",
    "ax2.set_title('Algorithm 4.5')\n",
    "#plt.legend()\n",
    "#plt.savefig(\"polynomial.svg\")"
   ]
  }
 ],
 "metadata": {
  "interpreter": {
   "hash": "d2151f0055e1fb3b0d2523ad4a7c4ab3db8de255f714182bdbcfb2ea9f8a80a5"
  },
  "kernelspec": {
   "display_name": "Python 3.10.4 ('wordle')",
   "language": "python",
   "name": "python3"
  },
  "language_info": {
   "codemirror_mode": {
    "name": "ipython",
    "version": 3
   },
   "file_extension": ".py",
   "mimetype": "text/x-python",
   "name": "python",
   "nbconvert_exporter": "python",
   "pygments_lexer": "ipython3",
   "version": "3.10.4"
  },
  "orig_nbformat": 4
 },
 "nbformat": 4,
 "nbformat_minor": 2
}
