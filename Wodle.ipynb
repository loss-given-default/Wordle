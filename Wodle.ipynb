{
 "cells": [
  {
   "cell_type": "markdown",
   "metadata": {},
   "source": [
    "# Wordle algorithm"
   ]
  },
  {
   "cell_type": "markdown",
   "metadata": {},
   "source": [
    "### Loading libraries and game data"
   ]
  },
  {
   "cell_type": "code",
   "execution_count": 25,
   "metadata": {},
   "outputs": [],
   "source": [
    "import csv\n",
    "import math\n",
    "\n",
    "import numpy as np\n",
    "import matplotlib.pyplot as plt\n",
    "import Wordle_functions as wrdl\n",
    "import Wordle_algo as algo\n",
    "\n",
    "from IPython.display import clear_output\n",
    "from time import sleep\n",
    "# from alive_progress import alive_it, config_handler\n",
    "from scipy.special import expit #sigmoid function\n",
    "\n",
    "# config_handler.set_global(force_tty=True, bar = \"classic2\", spinner = \"classic\", title='Playing Wordle intensively')"
   ]
  },
  {
   "cell_type": "code",
   "execution_count": 2,
   "metadata": {},
   "outputs": [],
   "source": [
    "import importlib\n",
    "importlib.reload(wrdl)\n",
    "importlib.reload(algo)\n",
    "dir(wrdl);"
   ]
  },
  {
   "cell_type": "markdown",
   "metadata": {},
   "source": [
    "The official version of Wordle has a list of words that it will allow you to enter, that are considered valid guesses, that's just about 13,000 words long. We will call the list of words all_allowed. But when you look at it there's a lot of really uncommon things things like \"aahed\" or \"aalii\" and \"aargh\". The kind of words that bring about family arguments in a game of Scrabble. But the vibe of the game is that the answer is always going to be a decently common word, and in fact there's another list of around 2,300 words that are the possible answers. We will call this list solutions. This is a human-curated list, I think specifically by the game creator's girlfriend which is kind of fun.\n",
    "But what I would like to do, our challenge for this project, is to see if we can write a program solving Wordle that doesn't incorporate previous knowledge about this list. For one thing there's plenty of pretty common five letter words that you won't find in that list, so it would be better to write a program that's a little more resilient and would play Wordle against anyone, not just what happens to be the official website. And also, the reason that we know what this list of possible answers is is because it's visible in the source code, but the way that it's visible in the source code is in the specific order in which answers come up from day to day, so you could always just look up what tomorrow's answer will be. So clearly there's some sense in which using the list is cheating, and what makes for a more interesting puzzle and a richer information theory lesson is to instead use some more universal data, like relative word frequencies in general, to capture this intuition of having a preference for more common words."
   ]
  },
  {
   "cell_type": "code",
   "execution_count": 2,
   "metadata": {},
   "outputs": [],
   "source": [
    "#Importing solutions and allowed words to lists\n",
    "csv_reader = csv.reader(open('solutions.csv', 'r'))\n",
    "solutions = list(csv_reader)[0] #contains all possible solutions\n",
    "\n",
    "csv_reader = csv.reader(open('allowed_words.csv', 'r'))\n",
    "allowed_words = list(csv_reader)[0] #contains allowed words beside solutions\n",
    "\n",
    "all_allowed = allowed_words + solutions"
   ]
  },
  {
   "cell_type": "code",
   "execution_count": 26,
   "metadata": {},
   "outputs": [
    {
     "data": {
      "text/plain": [
       "13.663335723478353"
      ]
     },
     "execution_count": 26,
     "metadata": {},
     "output_type": "execute_result"
    }
   ],
   "source": [
    "len(all_allowed)\n",
    "math.log2(len(all_allowed))\n",
    "\n",
    "\n",
    "# inf = wrdl.standardize_freq_map(freq_map, reduced_list)\n",
    "# inf = [p*math.log2(1/p) for (k, p) in inf.items()]\n",
    "# inf = sum(inf)"
   ]
  },
  {
   "cell_type": "code",
   "execution_count": 29,
   "metadata": {},
   "outputs": [
    {
     "data": {
      "text/plain": [
       "14.06"
      ]
     },
     "execution_count": 29,
     "metadata": {},
     "output_type": "execute_result"
    }
   ],
   "source": [
    "7.08 + 3.49 + 3.49"
   ]
  },
  {
   "cell_type": "code",
   "execution_count": 30,
   "metadata": {},
   "outputs": [
    {
     "data": {
      "text/plain": [
       "12.009999999999998"
      ]
     },
     "execution_count": 30,
     "metadata": {},
     "output_type": "execute_result"
    }
   ],
   "source": [
    "7.22 + 3.00 + 1.79"
   ]
  },
  {
   "cell_type": "markdown",
   "metadata": {},
   "source": [
    "### Wordle algorithms!!!"
   ]
  },
  {
   "cell_type": "markdown",
   "metadata": {},
   "source": [
    "#### Algorithm number 1: Picking random words\n",
    "It's literally just taking a random guess from all allowed words until it finds a solution\n",
    "It completly ignores information given from game"
   ]
  },
  {
   "cell_type": "code",
   "execution_count": 4,
   "metadata": {},
   "outputs": [
    {
     "name": "stdout",
     "output_type": "stream",
     "text": [
      "Playing Wordle intensively [########################################] 2309/2309 [100%] in 1:16.6 (30.16/s)              ................................] \\ 34/2309 [1%] in 1s (28.0/s, eta: 1:28) [##......................................] - 117/2309 [5%] in 4s (26.7/s, eta: 1:23) \n",
      "Average number of tries:\t6.5e+03\n",
      "Number of losses:\t\t2307 = 99.91%\n"
     ]
    }
   ],
   "source": [
    "#takes 2 minutes to run\n",
    "taken_tries = algo.wordle_algorithm_1(solutions, all_allowed, bar=True)\n",
    "invalid_guesses = [x for x in taken_tries if x > 6]\n",
    "clear_output(wait=True)\n",
    "sleep(2)\n",
    "print(f\"Average number of tries:\\t{sum(taken_tries)/len(taken_tries):.2}\")\n",
    "print(f\"Number of losses:\\t\\t{len(invalid_guesses)} = {len(invalid_guesses)/len(taken_tries):.2%}\")"
   ]
  },
  {
   "cell_type": "markdown",
   "metadata": {},
   "source": [
    "#### Algorithm number 2: Filtering word list down"
   ]
  },
  {
   "cell_type": "markdown",
   "metadata": {},
   "source": [
    "We're using the function \"filter_words\" here.\n",
    "Given a guess, a reply and a list of possible solutions, it filters the possible solution\n",
    "by throwing out all impossible solutions."
   ]
  },
  {
   "cell_type": "code",
   "execution_count": 6,
   "metadata": {},
   "outputs": [
    {
     "name": "stdout",
     "output_type": "stream",
     "text": [
      "[0, 0, 1, 1, 1]\n",
      "Original solution space: 12974. Now: 78. Reduced list by 99.40%\n"
     ]
    }
   ],
   "source": [
    "#Testing filter_words function\n",
    "solution = \"grade\"\n",
    "guess = \"cigar\"\n",
    "answer = wrdl.wordle_reply(solution, guess)\n",
    "print(answer)\n",
    "\n",
    "reduced_list = wrdl.filter_words(guess, answer, all_allowed)\n",
    "print(f\"Original solution space: {len(all_allowed)}. Now: {len(reduced_list)}. Reduced list by {1-(len(reduced_list)/len(all_allowed)):.2%}\")"
   ]
  },
  {
   "cell_type": "code",
   "execution_count": 7,
   "metadata": {},
   "outputs": [
    {
     "name": "stdout",
     "output_type": "stream",
     "text": [
      "Average number of tries:\t4.902\n",
      "Number of losses:\t\t240 = 10.39%\n"
     ]
    }
   ],
   "source": [
    "#takes 15 seconds to run\n",
    "taken_tries = algo.wordle_algorithm_2(solutions, all_allowed)\n",
    "invalid_guesses = [x for x in taken_tries if x > 6]\n",
    "clear_output(wait=True)\n",
    "sleep(1)\n",
    "print(f\"Average number of tries:\\t{sum(taken_tries)/len(taken_tries):.4}\")\n",
    "print(f\"Number of losses:\\t\\t{len(invalid_guesses)} = {len(invalid_guesses)/len(taken_tries):.2%}\")"
   ]
  },
  {
   "cell_type": "markdown",
   "metadata": {},
   "source": [
    "#### Algorithm 3 Choosing word with highest expected information"
   ]
  },
  {
   "cell_type": "markdown",
   "metadata": {},
   "source": [
    "Now we're calculating the expected entropy per word and choose the one with the greatest E[I]. For that we first need to generate a reply map with all possible replies we could get for a guess. Next we calculate the probability that a reply shows up for a given guess. From that\n",
    "probability map we can calculate the expected entropy for a given guess. Let's test out the functions:"
   ]
  },
  {
   "cell_type": "code",
   "execution_count": 8,
   "metadata": {},
   "outputs": [
    {
     "name": "stdout",
     "output_type": "stream",
     "text": [
      "guess: weary\n",
      "reply map: [[0, 0, 0, 0, 0], [0, 0, 0, 0, 1], [0, 0, 0, 0, 2], [0, 0, 0, 1, 0]]\n",
      "reply, prob: [([0, 0, 0, 0, 0], 0.14213041467550358), ([0, 0, 0, 0, 1], 0.011484507476491428)]\n",
      "E[I]: 4.902013055555535\n",
      "Loaded hashes: 2779\n"
     ]
    }
   ],
   "source": [
    "guess = \"weary\"\n",
    "reply_map = wrdl.wordle_reply_generator()\n",
    "gpm = wrdl.guess_probability_map(guess, all_allowed, {k: (1/len(all_allowed)) for k in all_allowed})\n",
    "e = wrdl.expected_entropy_from_word(guess, all_allowed)\n",
    "entropy_db = wrdl.load_entropy_db(\"entropy_db\")\n",
    "uniform_freq_map = {word: 1 for word in all_allowed}\n",
    "\n",
    "print(f\"guess: {guess}\")\n",
    "print(f\"reply map: {reply_map[:4]}\")\n",
    "print(f\"reply, prob: {gpm[:2]}\")\n",
    "print(f\"E[I]: {e}\")\n",
    "print(f\"Loaded hashes: {len(entropy_db)}\")"
   ]
  },
  {
   "cell_type": "code",
   "execution_count": 11,
   "metadata": {},
   "outputs": [
    {
     "data": {
      "image/png": "[encoded data removed]",
      "text/plain": [
       "<Figure size 432x288 with 1 Axes>"
      ]
     },
     "metadata": {
      "needs_background": "light"
     },
     "output_type": "display_data"
    }
   ],
   "source": [
    "#plotting probability map for example word -> how likely each pattern is\n",
    "guess = \"weary\"\n",
    "gpm = wrdl.guess_probability_map(guess, all_allowed, {k: (1/len(all_allowed)) for k in all_allowed}) #uniform freq map must sum up to 1\n",
    "gpm = sorted(gpm, key=lambda tup: tup[1], reverse = True) #sorts the list\n",
    "x, y = zip(*gpm)\n",
    "x = [str(i) for i in x]\n",
    "\n",
    "fig = plt.figure()\n",
    "ax = fig.add_axes([0,0,1,1])\n",
    "ax.bar(x,y)\n",
    "plt.xticks(np.arange(0, len(x)+1, 10), rotation=90)\n",
    "\n",
    "plt.title(f\"Probability that each pattern appears for the word {guess}\")\n",
    "plt.show()"
   ]
  },
  {
   "cell_type": "code",
   "execution_count": 12,
   "metadata": {},
   "outputs": [
    {
     "name": "stdout",
     "output_type": "stream",
     "text": [
      "Average number of tries:\t3.964\n",
      "Number of losses:\t\t0 = 0.00%\n"
     ]
    }
   ],
   "source": [
    "#takes 6 minutes to run\n",
    "taken_tries = algo.wordle_algorithm_4(solutions, all_allowed, verbose = False, entropy_db = entropy_db, freq_map = uniform_freq_map, bar = True)\n",
    "invalid_guesses = [x for x in taken_tries if x > 6]\n",
    "clear_output(wait=True)\n",
    "sleep(1)\n",
    "print(f\"Average number of tries:\\t{sum(taken_tries)/len(taken_tries):.4}\")\n",
    "print(f\"Number of losses:\\t\\t{len(invalid_guesses)} = {len(invalid_guesses)/len(taken_tries):.2%}\")"
   ]
  },
  {
   "cell_type": "code",
   "execution_count": 15,
   "metadata": {},
   "outputs": [
    {
     "name": "stdout",
     "output_type": "stream",
     "text": [
      "🟩🟩🟩🟩🟩 yield E[I]:4.62 bits  I:0.00 bits  ✔️\n"
     ]
    },
    {
     "data": {
      "text/plain": [
       "[5]"
      ]
     },
     "execution_count": 15,
     "metadata": {},
     "output_type": "execute_result"
    }
   ],
   "source": [
    "algo.wordle_algorithm_4(solutions, all_allowed, manual = True, entropy_db = entropy_db, freq_map = uniform_freq_map, bar = False)"
   ]
  },
  {
   "cell_type": "markdown",
   "metadata": {},
   "source": [
    "### Algorithm 4: Taking word frequency into account"
   ]
  },
  {
   "cell_type": "markdown",
   "metadata": {},
   "source": [
    "Currently, our best algorithm doesn't know which word is most likely to be the solution. When it is torn between 2 words, it doesn't take into account that 1 word is more common than the other. Let's change that."
   ]
  },
  {
   "cell_type": "code",
   "execution_count": 17,
   "metadata": {},
   "outputs": [],
   "source": [
    "#loading word frequency dataset and creating dictionary of word frequency for all allowed words\n",
    "with open('unigram_freq.csv', 'r') as x:\n",
    "    csv_reader = csv.reader(x)\n",
    "    word_frequency_dict = list(csv_reader)\n",
    "\n",
    "del word_frequency_dict[0] #delete headers\n",
    "word_frequency_dict = [(i, int(j)) for i, j in word_frequency_dict]\n",
    "total = sum(j for i, j in word_frequency_dict)\n",
    "word_frequency_dict = dict((i, j/total) for i, j in word_frequency_dict)\n",
    "\n",
    "all_allowed_freq = {}\n",
    "mini = min(word_frequency_dict.values())\n",
    "\n",
    "for word in all_allowed:\n",
    "    if word in word_frequency_dict:\n",
    "        all_allowed_freq[word] = word_frequency_dict[word]\n",
    "    else: \n",
    "        all_allowed_freq[word] = mini"
   ]
  },
  {
   "cell_type": "code",
   "execution_count": 18,
   "metadata": {},
   "outputs": [
    {
     "data": {
      "text/plain": [
       "<BarContainer object of 20 artists>"
      ]
     },
     "execution_count": 18,
     "metadata": {},
     "output_type": "execute_result"
    },
    {
     "data": {
      "image/png": "[encoded data removed]",
      "text/plain": [
       "<Figure size 432x288 with 1 Axes>"
      ]
     },
     "metadata": {
      "needs_background": "light"
     },
     "output_type": "display_data"
    }
   ],
   "source": [
    "#plotting most common 5-letter-words\n",
    "plot_data = sorted(all_allowed_freq.items(), key=lambda tup: tup[1])\n",
    "plt.barh(*zip(*plot_data[-20:]))"
   ]
  },
  {
   "cell_type": "code",
   "execution_count": 19,
   "metadata": {},
   "outputs": [
    {
     "name": "stdout",
     "output_type": "stream",
     "text": [
      "Avg. probability solution \t80.55%\n",
      "Avg. probability all words \t27.77%\n"
     ]
    }
   ],
   "source": [
    "all_allowed_freq_sigmoid = algo.apply_sigmoid(all_allowed_freq,10,-0.5)\n",
    "\n",
    "tmp2 = {}\n",
    "for s in solutions:\n",
    "    tmp2[s] = all_allowed_freq_sigmoid[s]\n",
    "\n",
    "print(f\"Avg. probability solution \\t{np.mean(list(tmp2.values())):.2%}\")\n",
    "print(f\"Avg. probability all words \\t{np.mean(list(all_allowed_freq_sigmoid.values())):.2%}\")"
   ]
  },
  {
   "cell_type": "code",
   "execution_count": 20,
   "metadata": {},
   "outputs": [
    {
     "data": {
      "text/plain": [
       "<matplotlib.collections.PathCollection at 0x1ae657ec130>"
      ]
     },
     "execution_count": 20,
     "metadata": {},
     "output_type": "execute_result"
    },
    {
     "data": {
      "image/png": "[encoded data removed]",
      "text/plain": [
       "<Figure size 432x288 with 1 Axes>"
      ]
     },
     "metadata": {
      "needs_background": "light"
     },
     "output_type": "display_data"
    }
   ],
   "source": [
    "plot_data = list(all_allowed_freq_sigmoid.items())\n",
    "plot_data.sort(key=lambda x:x[1]) #sort by frequency\n",
    "y = list(zip(*plot_data))[1]\n",
    "x = range(len(y))\n",
    "c = list(zip(*plot_data))[0]\n",
    "c = [1*(x in solutions) for x in c]\n",
    "plt.ylim(0, 1)\n",
    "plt.scatter(x, y, alpha = 0.1, c = c, s = 10, marker = \"x\")"
   ]
  },
  {
   "cell_type": "code",
   "execution_count": 21,
   "metadata": {},
   "outputs": [
    {
     "name": "stdout",
     "output_type": "stream",
     "text": [
      "guess:\t\t\tsissy\n",
      "E[I] without freq:\t3.6985986851208272\n",
      "E[I] with freq:\t\t3.6007711675135794\n"
     ]
    }
   ],
   "source": [
    "guess = \"sissy\"\n",
    "e = wrdl.expected_entropy_from_word(guess, all_allowed)\n",
    "e_freq = wrdl.expected_entropy_from_word(guess, all_allowed, freq_map = all_allowed_freq_sigmoid)\n",
    "\n",
    "print(f\"guess:\\t\\t\\t{guess}\")\n",
    "print(f\"E[I] without freq:\\t{e}\")\n",
    "print(f\"E[I] with freq:\\t\\t{e_freq}\")"
   ]
  },
  {
   "cell_type": "code",
   "execution_count": 22,
   "metadata": {},
   "outputs": [
    {
     "name": "stdout",
     "output_type": "stream",
     "text": [
      "-> Currently solving fanny [########################################] 2309/2309 [100%] in 7:24.4 (5.20/s)               .................................] / 138/2309 [6%] in 27s (5.2/s, eta: 6:58) [###.....................................] - 171/2309 [7%] in 33s (5.3/s, eta: 6:49) [###.....................................] / 188/2309 [8%] in 36s (5.2/s, eta: 6:46) [#####...................................] - 261/2309 [11%] in 50s (5.2/s, eta: 6:35) [##########..............................] - 567/2309 [25%] in 1:50 (5.2/s, eta: 5:38) [###########.............................] / 650/2309 [28%] in 2:08 (5.1/s, eta: 5:26) [################........................] \\ 914/2309 [40%] in 3:05 (4.9/s, eta: 4:42) [####################....................] | 1146/2309 [50%] in 3:53 (4.9/s, eta: 3:57) [#####################...................] \\ 1189/2309 [51%] in 4:02 (4.9/s, eta: 3:48) [############################............] - 1627/2309 [70%] in 5:26 (5.0/s, eta: 2:17) [##############################..........] | 1726/2309 [75%] in 5:44 (5.0/s, eta: 1:56) [########################################] \\ 2281/2309 [99%] in 7:20 (5.2/s, eta: 6s) \n",
      "Average number of tries:\t3.908\n",
      "Number of losses:\t\t0 = 0.00%\n"
     ]
    }
   ],
   "source": [
    "#takes 7 minutes to run\n",
    "taken_tries = algo.wordle_algorithm_4(solutions, all_allowed, verbose = False, entropy_db = entropy_db, freq_map = all_allowed_freq_sigmoid, bar = True)\n",
    "invalid_guesses = [x for x in taken_tries if x > 6]\n",
    "\n",
    "sleep(1)\n",
    "clear_output(wait=True)\n",
    "print(f\"Average number of tries:\\t{sum(taken_tries)/len(taken_tries):.4}\")\n",
    "print(f\"Number of losses:\\t\\t{len(invalid_guesses)} = {len(invalid_guesses)/len(taken_tries):.2%}\")"
   ]
  }
 ],
 "metadata": {
  "interpreter": {
   "hash": "d2151f0055e1fb3b0d2523ad4a7c4ab3db8de255f714182bdbcfb2ea9f8a80a5"
  },
  "kernelspec": {
   "display_name": "Python 3.10.4 ('wordle')",
   "language": "python",
   "name": "python3"
  },
  "language_info": {
   "codemirror_mode": {
    "name": "ipython",
    "version": 3
   },
   "file_extension": ".py",
   "mimetype": "text/x-python",
   "name": "python",
   "nbconvert_exporter": "python",
   "pygments_lexer": "ipython3",
   "version": "3.10.4"
  },
  "orig_nbformat": 4
 },
 "nbformat": 4,
 "nbformat_minor": 2
}
