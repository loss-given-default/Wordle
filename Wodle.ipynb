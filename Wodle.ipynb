{
 "cells": [
  {
   "cell_type": "markdown",
   "metadata": {},
   "source": [
    "# Wordle algorithm"
   ]
  },
  {
   "cell_type": "markdown",
   "metadata": {},
   "source": [
    "### Loading libraries and game data"
   ]
  },
  {
   "cell_type": "code",
   "execution_count": 2,
   "metadata": {},
   "outputs": [],
   "source": [
    "import numpy as np\n",
    "import csv\n",
    "from IPython.display import clear_output\n",
    "from time import sleep\n",
    "import random\n",
    "import os\n",
    "import pandas as pd\n",
    "import matplotlib.pyplot as plt\n",
    "import math\n",
    "import Wordle_functions as wrdl\n",
    "from alive_progress import alive_bar, alive_it, config_handler\n",
    "config_handler.set_global(force_tty=True, bar = \"classic2\", spinner = \"classic\", title='Playing Wordle intensively')"
   ]
  },
  {
   "cell_type": "code",
   "execution_count": 3,
   "metadata": {},
   "outputs": [
    {
     "data": {
      "text/plain": [
       "['__builtins__',\n",
       " '__cached__',\n",
       " '__doc__',\n",
       " '__file__',\n",
       " '__loader__',\n",
       " '__name__',\n",
       " '__package__',\n",
       " '__spec__',\n",
       " 'filter_words',\n",
       " 'wordle_print',\n",
       " 'wordle_reply',\n",
       " 'wordle_reply_generator']"
      ]
     },
     "execution_count": 3,
     "metadata": {},
     "output_type": "execute_result"
    }
   ],
   "source": [
    "import importlib\n",
    "importlib.reload(wrdl)\n",
    "dir(wrdl);"
   ]
  },
  {
   "cell_type": "markdown",
   "metadata": {},
   "source": [
    "The official version of Wordle has a list of words that it will allow you to enter, that are considered valid guesses, that's just about 13,000 words long. We will call the list of words all_allowed. But when you look at it there's a lot of really uncommon things things like \"aahed\" or \"aalii\" and \"aargh\". The kind of words that bring about family arguments in a game of Scrabble. But the vibe of the game is that the answer is always going to be a decently common word, and in fact there's another list of around 2,300 words that are the possible answers. We will call this list solutions. This is a human-curated list, I think specifically by the game creator's girlfriend which is kind of fun.\n",
    "But what I would like to do, our challenge for this project, is to see if we can write a program solving Wordle that doesn't incorporate previous knowledge about this list. For one thing there's plenty of pretty common five letter words that you won't find in that list, so it would be better to write a program that's a little more resilient and would play Wordle against anyone, not just what happens to be the official website. And also, the reason that we know what this list of possible answers is is because it's visible in the source code, but the way that it's visible in the source code is in the specific order in which answers come up from day to day, so you could always just look up what tomorrow's answer will be. So clearly there's some sense in which using the list is cheating, and what makes for a more interesting puzzle and a richer information theory lesson is to instead use some more universal data, like relative word frequencies in general, to capture this intuition of having a preference for more common words."
   ]
  },
  {
   "cell_type": "code",
   "execution_count": 3,
   "metadata": {},
   "outputs": [],
   "source": [
    "#Importing solutions and allowed words to lists\n",
    "csv_reader = csv.reader(open('solutions.csv', 'r'))\n",
    "solutions = list(csv_reader)[0] #contains all possible solutions\n",
    "\n",
    "csv_reader = csv.reader(open('allowed_words.csv', 'r'))\n",
    "allowed_words = list(csv_reader)[0] #contains allowed words beside solutions\n",
    "\n",
    "all_allowed = allowed_words + solutions"
   ]
  },
  {
   "cell_type": "markdown",
   "metadata": {},
   "source": [
    "### Testing imported functions"
   ]
  },
  {
   "cell_type": "markdown",
   "metadata": {},
   "source": [
    "### Wordle algorithms!!!"
   ]
  },
  {
   "cell_type": "markdown",
   "metadata": {},
   "source": [
    "#### Algorithm number 1: Picking random words\n",
    "It's literally just taking a random guess from all allowed words until it finds a solution\n",
    "It completly ignores information given from game"
   ]
  },
  {
   "cell_type": "code",
   "execution_count": 4,
   "metadata": {},
   "outputs": [
    {
     "name": "stdout",
     "output_type": "stream",
     "text": [
      "Playing Wordle intensively [########################################] 2309/2309 [100%] in 47.3s (48.86/s)               \n",
      "Average number of tries: 6450.39\n"
     ]
    }
   ],
   "source": [
    "#takes around 40 seconds to run\n",
    "def wordle_algorithm_1(solutions = solutions, allowed_words = all_allowed, max_tries = len(all_allowed), manual = False):\n",
    "    \"\"\"\n",
    "    Wordle algorithm mark 1\n",
    "\n",
    "        Args:\n",
    "            solutions (list):       List of solutions (str) to iterate over. Is ignored if manual == True\n",
    "            allowed_words (list):   List of strings with allowed words\n",
    "            max_tries (int):        Max number of tries before giving up\n",
    "            manual(bool):           If true, it asks for input for reply\n",
    "            \n",
    "\n",
    "        Returns:\n",
    "            taken_tries (list):     list of int how many tries it took to solve for each solution\n",
    "    \"\"\"\n",
    "\n",
    "    taken_tries = []\n",
    "    if manual: solutions = [\"a\"]\n",
    "    for s in alive_it(random.sample(solutions, len(solutions))):\n",
    "        guess = random.sample(all_allowed, len(all_allowed))\n",
    "        for i in range(max_tries):\n",
    "            if manual:\n",
    "                print(f\"Try: {guess[i]}\")\n",
    "                sleep(1)\n",
    "                reply = [int(item) for item in input(\"Wordl reply e.g. 0 2 1 0 0\").split()]\n",
    "                print(wrdl.wordle_print(reply), guess[i])\n",
    "            else:\n",
    "                reply = wrdl.wordle_reply(s, guess[i])\n",
    "            \n",
    "            #print(wrdl.wordle_print(reply), \"\", guess[i])\n",
    "            if sum(reply) == 10:\n",
    "                break\n",
    "        taken_tries.append(i+1)\n",
    "        clear_output(wait=True)\n",
    "    return taken_tries\n",
    "\n",
    "taken_tries = wordle_algorithm_1()\n",
    "sleep(1)\n",
    "print(f\"Average number of tries: {(sum(taken_tries)/len(taken_tries)):.6}\")"
   ]
  },
  {
   "cell_type": "markdown",
   "metadata": {},
   "source": [
    "#### Algorithm number 2: Filtering word list down"
   ]
  },
  {
   "cell_type": "markdown",
   "metadata": {},
   "source": [
    "We're using the function \"filter_words\" here.\n",
    "Given a guess, a reply and a list of possible solutions, it filters the possible solution\n",
    "by throwing out all impossible solutions."
   ]
  },
  {
   "cell_type": "code",
   "execution_count": 41,
   "metadata": {},
   "outputs": [
    {
     "name": "stdout",
     "output_type": "stream",
     "text": [
      "[0, 0, 1, 1, 1]\n",
      "Original solution space: 12974. Now: 78. Reduced list by 99.40%\n"
     ]
    }
   ],
   "source": [
    "#Testing filter_words function\n",
    "solution = \"grade\"\n",
    "guess = \"cigar\"\n",
    "answer = wrdl.wordle_reply(solution, guess)\n",
    "print(answer)\n",
    "\n",
    "reduced_list = wrdl.filter_words(guess, answer, all_allowed)\n",
    "print(f\"Original solution space: {len(all_allowed)}. Now: {len(reduced_list)}. Reduced list by {1-(len(reduced_list)/len(all_allowed)):.2%}\")"
   ]
  },
  {
   "cell_type": "code",
   "execution_count": 40,
   "metadata": {},
   "outputs": [
    {
     "name": "stdout",
     "output_type": "stream",
     "text": [
      "Playing Wordle intensively [########################################] 2309/2309 [100%] in 8.9s (258.49/s)               \n"
     ]
    },
    {
     "name": "stdout",
     "output_type": "stream",
     "text": [
      "Average number of tries: 4.9\n"
     ]
    }
   ],
   "source": [
    "#takes 10 seconds to run\n",
    "def wordle_algorithm_2(solutions = solutions, allowed_words = all_allowed, max_tries = len(all_allowed), manual = False):\n",
    "    \"\"\"\n",
    "    Wordle algorithm mark 2: Makes use of the information from wordl reply by filtering out words\n",
    "    that can't be the solution. Suggests random word from solution space that's left as next guess.\n",
    "\n",
    "        Args:\n",
    "            solutions (list):       List of solutions (str) to iterate over. Is ignored if manual == True\n",
    "            allowed_words (list):   List of strings with allowed words\n",
    "            max_tries (int):        Max number of tries before giving up\n",
    "            manual(bool):           If true, it asks for input for reply\n",
    "            \n",
    "\n",
    "        Returns:\n",
    "            taken_tries (list):     list of int how many tries it took to solve for each solution\n",
    "    \"\"\"\n",
    "    \n",
    "    taken_tries = []\n",
    "    if manual:\n",
    "        solutions = [\"a\"]\n",
    "\n",
    "    for s in alive_it(solutions):\n",
    "        guess = random.choice(allowed_words) #initial guess\n",
    "        reduced_list = allowed_words\n",
    "        #print(s)\n",
    "        for i in range(max_tries): #reduces list over iterations\n",
    "            if manual:\n",
    "                print(f\"Try: {guess}\")\n",
    "                sleep(1)\n",
    "                reply = [int(item) for item in input(\"Wordl reply e.g. 0 2 1 0 0\").split()]\n",
    "                reduced_list = wrdl.filter_words(guess, reply, allowed_words = reduced_list)\n",
    "                print(wrdl.wordle_print(reply), guess, f\"{len(reduced_list)} words\")\n",
    "            else:\n",
    "                reply = wrdl.wordle_reply(s, guess)\n",
    "                reduced_list = wrdl.filter_words(guess, reply, allowed_words = reduced_list)\n",
    "\n",
    "            guess = random.choice(reduced_list)\n",
    "\n",
    "            if sum(reply) == 10:\n",
    "                #print(i+1)\n",
    "                break\n",
    "        taken_tries.append(i+1)\n",
    "        clear_output(wait=True)\n",
    "    return taken_tries\n",
    "\n",
    "taken_tries = wordle_algorithm_2()\n",
    "sleep(1)\n",
    "print(f\"Average number of tries: {sum(taken_tries)/len(taken_tries):.2}\")"
   ]
  },
  {
   "cell_type": "markdown",
   "metadata": {},
   "source": [
    "#### Algorithm to calculate entropy"
   ]
  },
  {
   "cell_type": "code",
   "execution_count": 63,
   "metadata": {},
   "outputs": [
    {
     "data": {
      "text/plain": [
       "[[0, 0, 0, 0, 0],\n",
       " [0, 0, 0, 0, 1],\n",
       " [0, 0, 0, 0, 2],\n",
       " [0, 0, 0, 1, 0],\n",
       " [0, 0, 0, 1, 1]]"
      ]
     },
     "execution_count": 63,
     "metadata": {},
     "output_type": "execute_result"
    }
   ],
   "source": [
    "reply_map = wrdl.wordle_reply_generator()\n",
    "\n",
    "if len(reply_map) != pow(3, 5):\n",
    "    raise Exception(\"Something wrong with the reply_map\")\n",
    "\n",
    "reply_map[:5]"
   ]
  },
  {
   "cell_type": "code",
   "execution_count": 126,
   "metadata": {},
   "outputs": [],
   "source": [
    "def guess_probability_map(guess, word_list, reply_map = reply_map, sort = True):\n",
    "    prob_list = []\n",
    "    index = []\n",
    "    matches_list = []\n",
    "    \n",
    "    for reply in reply_map:\n",
    "        #check if reply makes sense -> e.g. for word sissy a reply [0 0 1 0 0] doesnt make sense, bc if s is in word it would only be [1 0 0 0 0]\n",
    "        invalid_reply = False\n",
    "        for i in range(6-1):\n",
    "            #count = 1\n",
    "            for j in range(i+1, 6-1):\n",
    "                if guess[i] == guess[j]:\n",
    "                    #count += 1\n",
    "                    if reply[j] == 1 and reply[i] == 0:\n",
    "                        invalid_reply = True\n",
    "                        \n",
    "        if invalid_reply:\n",
    "            continue\n",
    "\n",
    "        #create prob_list\n",
    "        matches = wrdl.filter_words(guess, reply, allowed_words = word_list)\n",
    "        matches_list.append(matches)\n",
    "        prob = len(matches) / len(word_list)\n",
    "        prob_list.append(prob)\n",
    "\n",
    "        #create index\n",
    "        strings = [str(integer) for integer in reply]\n",
    "        a_string = \"\".join(strings)\n",
    "        an_integer = a_string\n",
    "        index.append(an_integer)\n",
    "    \n",
    "    #create data frame\n",
    "    df = pd.DataFrame(prob_list, index = index, columns = [\"Probability\"])\n",
    "    df = df.loc[~(df==0).all(axis=1)] #delete 0 entries\n",
    "    if sort:\n",
    "        df = df.sort_values(by=['Probability'], ascending=False)\n",
    "\n",
    "    \n",
    "    return df\n",
    "# tmp = guess_probability_map(\"weary\", all_allowed)\n",
    "# tmp2 = guess_probability_map(\"sissy\", all_allowed)"
   ]
  },
  {
   "cell_type": "code",
   "execution_count": 66,
   "metadata": {},
   "outputs": [],
   "source": [
    "def expected_entropy_from_map(probability_map):\n",
    "#assumes sorted probability map! Won't work otherwise..\n",
    "    if round(sum(probability_map), 5) != 1:\n",
    "        raise Exception(f\"What kind of probability map is that?! {round(sum(probability_map), 5)}\")\n",
    "\n",
    "    e = 0.0\n",
    "    for p in probability_map:\n",
    "        if p == 0: break\n",
    "        e += p * math.log2(1/p)\n",
    "\n",
    "    return e\n",
    "# expected_entropy_from_map(tmp[\"Probability\"].tolist())"
   ]
  },
  {
   "cell_type": "code",
   "execution_count": 148,
   "metadata": {},
   "outputs": [
    {
     "data": {
      "text/plain": [
       "6.194226640047031"
      ]
     },
     "execution_count": 148,
     "metadata": {},
     "output_type": "execute_result"
    }
   ],
   "source": [
    "def expected_entropy_from_word(guess, word_list = all_allowed):\n",
    "    prob = guess_probability_map(guess, word_list)\n",
    "    expected_entropy = expected_entropy_from_map(prob[\"Probability\"].tolist())\n",
    "    return expected_entropy\n",
    "expected_entropy_from_word(\"tares\")"
   ]
  },
  {
   "cell_type": "code",
   "execution_count": 147,
   "metadata": {},
   "outputs": [
    {
     "data": {
      "image/png": "[encoded data removed]",
      "text/plain": [
       "<Figure size 432x288 with 1 Axes>"
      ]
     },
     "metadata": {
      "needs_background": "light"
     },
     "output_type": "display_data"
    }
   ],
   "source": [
    "#plotting probability map for example word -> how likely each pattern is\n",
    "guess = \"tares\"\n",
    "df = guess_probability_map(guess, all_allowed)\n",
    "\n",
    "x = df.index.values.tolist()\n",
    "# for i in range (len(x)):\n",
    "#     x[i] = wordle_print(x[i])\n",
    "y = df[\"Probability\"].tolist()\n",
    "\n",
    "fig = plt.figure()\n",
    "ax = fig.add_axes([0,0,1,1])\n",
    "ax.bar(x,y)\n",
    "plt.xticks(np.arange(0, len(x)+1, 10), rotation=90)\n",
    "\n",
    "plt.title(f\"Probability that each pattern appears for the word {guess}\")\n",
    "plt.show()"
   ]
  },
  {
   "cell_type": "code",
   "execution_count": 129,
   "metadata": {},
   "outputs": [
    {
     "data": {
      "text/html": [
       "<div>\n",
       "<style scoped>\n",
       "    .dataframe tbody tr th:only-of-type {\n",
       "        vertical-align: middle;\n",
       "    }\n",
       "\n",
       "    .dataframe tbody tr th {\n",
       "        vertical-align: top;\n",
       "    }\n",
       "\n",
       "    .dataframe thead th {\n",
       "        text-align: right;\n",
       "    }\n",
       "</style>\n",
       "<table border=\"1\" class=\"dataframe\">\n",
       "  <thead>\n",
       "    <tr style=\"text-align: right;\">\n",
       "      <th></th>\n",
       "      <th>Probability</th>\n",
       "    </tr>\n",
       "  </thead>\n",
       "  <tbody>\n",
       "    <tr>\n",
       "      <th>00000</th>\n",
       "      <td>0.583629</td>\n",
       "    </tr>\n",
       "    <tr>\n",
       "      <th>01000</th>\n",
       "      <td>0.074765</td>\n",
       "    </tr>\n",
       "    <tr>\n",
       "      <th>00002</th>\n",
       "      <td>0.069370</td>\n",
       "    </tr>\n",
       "    <tr>\n",
       "      <th>02000</th>\n",
       "      <td>0.061122</td>\n",
       "    </tr>\n",
       "    <tr>\n",
       "      <th>00001</th>\n",
       "      <td>0.046092</td>\n",
       "    </tr>\n",
       "    <tr>\n",
       "      <th>...</th>\n",
       "      <td>...</td>\n",
       "    </tr>\n",
       "    <tr>\n",
       "      <th>00221</th>\n",
       "      <td>0.000077</td>\n",
       "    </tr>\n",
       "    <tr>\n",
       "      <th>11002</th>\n",
       "      <td>0.000077</td>\n",
       "    </tr>\n",
       "    <tr>\n",
       "      <th>22202</th>\n",
       "      <td>0.000077</td>\n",
       "    </tr>\n",
       "    <tr>\n",
       "      <th>22220</th>\n",
       "      <td>0.000077</td>\n",
       "    </tr>\n",
       "    <tr>\n",
       "      <th>22222</th>\n",
       "      <td>0.000077</td>\n",
       "    </tr>\n",
       "  </tbody>\n",
       "</table>\n",
       "<p>62 rows × 1 columns</p>\n",
       "</div>"
      ],
      "text/plain": [
       "       Probability\n",
       "00000     0.583629\n",
       "01000     0.074765\n",
       "00002     0.069370\n",
       "02000     0.061122\n",
       "00001     0.046092\n",
       "...            ...\n",
       "00221     0.000077\n",
       "11002     0.000077\n",
       "22202     0.000077\n",
       "22220     0.000077\n",
       "22222     0.000077\n",
       "\n",
       "[62 rows x 1 columns]"
      ]
     },
     "execution_count": 129,
     "metadata": {},
     "output_type": "execute_result"
    }
   ],
   "source": [
    "df"
   ]
  },
  {
   "cell_type": "code",
   "execution_count": 167,
   "metadata": {},
   "outputs": [
    {
     "name": "stdout",
     "output_type": "stream",
     "text": [
      "best guess:\tsaner\t6.0\n",
      "worst guess:\tfluff\t2.35\n",
      "\n",
      "best guess:\ttares\t6.19\n",
      "worst guess:\tqajaq\t2.07\n",
      "\n",
      "best guess:\ttares\t6.19\n",
      "worst guess:\tqajaq\t2.07\n",
      "\n"
     ]
    }
   ],
   "source": [
    "#build dataframe with words & expected entropy and save as df\n",
    "# #for solutions\n",
    "# entropies_all = []\n",
    "# for word in alive_it(solutions, force_tty=True, bar = \"classic2\", spinner = \"loving\"):\n",
    "#     entropies_all.append(expected_entropy_from_word(word))\n",
    "\n",
    "# df = pd.DataFrame(list(zip(solutions, entropies_all)), columns = [\"Word\", \"E[I]\"])\n",
    "# df = df.sort_values(by=['E[I]'], ascending=False)\n",
    "# df.to_csv('solutions_E[I].csv', index=False)\n",
    "\n",
    "# #for allowed_words (not all_allowed!)\n",
    "# entropies_all = []\n",
    "# for word in alive_it(allowed_words, force_tty=True, bar = \"classic2\", spinner = \"loving\"):\n",
    "#     entropies_all.append(expected_entropy_from_word(word))\n",
    "\n",
    "# df = pd.DataFrame(list(zip(allowed_words, entropies_all)), columns = [\"Word\", \"E[I]\"])\n",
    "# df = df.sort_values(by=['E[I]'], ascending=False)\n",
    "# df.to_csv('allowed_words_E[I].csv', index=False)\n",
    "\n",
    "solutions_EI = pd.read_csv('solutions_E[I].csv', header=0, index_col=0, squeeze=True).to_dict()\n",
    "allowed_EI = pd.read_csv('allowed_words_E[I].csv', header=0, index_col=0, squeeze=True).to_dict()\n",
    "all_allowed_EI = {**allowed_EI, **solutions_EI}\n",
    "\n",
    "\n",
    "for i in (solutions_EI, allowed_EI, all_allowed_EI):\n",
    "    best_guess = max(i.keys(), key=(lambda k: i[k]))\n",
    "    worst_guess = min(i.keys(), key=(lambda k: i[k]))\n",
    "\n",
    "    print(f\"best guess:\\t{best_guess}\\t{i[best_guess]:.3}\")\n",
    "    print(f\"worst guess:\\t{worst_guess}\\t{i[worst_guess]:.3}\\n\")"
   ]
  },
  {
   "cell_type": "code",
   "execution_count": 182,
   "metadata": {},
   "outputs": [
    {
     "name": "stdout",
     "output_type": "stream",
     "text": [
      "[########################################] 30/30 [100%] in 4:21.1 (0.11/s)                                              \n",
      "Average number of tries: 4.1\n"
     ]
    }
   ],
   "source": [
    "#Wordle algorithm with expected entropy\n",
    "max_tries = 100000\n",
    "taken_tries = []\n",
    "\n",
    "for s in alive_it(random.sample(solutions, 30), force_tty=True, bar = \"classic2\", spinner = \"classic\"):\n",
    "    reduced_list = sorted(all_allowed)\n",
    "    entropies_sorted = list(sorted(all_allowed_EI.items()))\n",
    "    entropies_list = list(np.array(entropies_sorted)[:,1])      \n",
    "\n",
    "    #print(s)\n",
    "    for i in range(max_tries):\n",
    "        guess = reduced_list[entropies_list.index(max(entropies_list))]\n",
    "        EI = float(max(entropies_list))\n",
    "        reply = wrdl.wordle_reply(s, guess)\n",
    "        if sum(reply) == 10: \n",
    "            inf = math.log2(1/(1/len(reduced_list)))\n",
    "            #print(wrdl.wordle_print(reply), guess, f\"E[I]:{EI:.2f} bits \", f\"I:{inf:.2f} bits \", f\"EPIC WIN!!!\")\n",
    "            break\n",
    "    \n",
    "        reduced_list_before = reduced_list\n",
    "        reduced_list = wrdl.filter_words(guess, reply, allowed_words = reduced_list)\n",
    "        p = len(reduced_list) / len(reduced_list_before)  \n",
    "        inf = math.log2(1/p)\n",
    "\n",
    "        #print(wrdl.wordle_print(reply), guess, f\"E[I]:{EI:.2f} bits \", f\"I:{inf:.2f} bits \", f\"{len(reduced_list)} words\")\n",
    "\n",
    "        entropies_list = []\n",
    "        for word in reduced_list:\n",
    "            entropies_list.append(expected_entropy_from_word(word, word_list = reduced_list))\n",
    "\n",
    "    taken_tries.append(i+1)\n",
    "    clear_output(wait=True)\n",
    "\n",
    "sleep(1)\n",
    "print(f\"Average number of tries: {sum(taken_tries)/len(taken_tries):.2}\")"
   ]
  },
  {
   "cell_type": "code",
   "execution_count": 138,
   "metadata": {},
   "outputs": [
    {
     "name": "stdout",
     "output_type": "stream",
     "text": [
      "saner\n",
      "⬜⬜⬜⬜⬜ saner E[I]:6.00 bits  I:3.40 bits  219 words\n",
      "could\n",
      "⬜⬜⬜⬜⬜ could E[I]:5.51 bits  I:3.53 bits  19 words\n",
      "fight\n",
      "⬜🟩⬜⬜🟨 fight E[I]:3.75 bits  I:2.66 bits  3 words\n",
      "bitty\n",
      "⬜🟩🟩🟩🟩 bitty E[I]:0.92 bits  I:0.58 bits  2 words\n",
      "kitty\n",
      "⬜🟩🟩🟩🟩 kitty E[I]:1.00 bits  I:1.00 bits  1 words\n",
      "witty\n",
      "🟩🟩🟩🟩🟩 witty E[I]:0.00 bits  I:1.00 bits  EPIC WIN!!!\n"
     ]
    }
   ],
   "source": [
    "#Wordle algorithm with expected entropy to cheat\n",
    "reduced_list = sorted(solutions)\n",
    "entropies_sorted = list(sorted(solutions_EI.items()))\n",
    "entropies_list = list(np.array(entropies_sorted)[:,1])      \n",
    "\n",
    "for i in range(6):\n",
    "    guess = reduced_list[entropies_list.index(max(entropies_list))]\n",
    "    print(guess)\n",
    "    sleep(1)\n",
    "    EI = float(max(entropies_list))\n",
    "    reply = [int(item) for item in input(\"Wordl reply e.g. 0 2 1 0 0\").split()]\n",
    "    if sum(reply) == 10: \n",
    "        print(wrdl.wordle_print(reply), guess, f\"E[I]:{EI:.2f} bits \", f\"I:{inf:.2f} bits \", f\"EPIC WIN!!!\")\n",
    "        break\n",
    "\n",
    "    reduced_list_before = reduced_list\n",
    "    reduced_list = wrdl.filter_words(guess, reply, allowed_words = reduced_list)\n",
    "    p = len(reduced_list) / len(reduced_list_before)  \n",
    "    inf = math.log2(1/p)\n",
    "\n",
    "    print(wrdl.wordle_print(reply), guess, f\"E[I]:{EI:.2f} bits \", f\"I:{inf:.2f} bits \", f\"{len(reduced_list)} words\")\n",
    "\n",
    "    entropies_list = []\n",
    "    for word in reduced_list:\n",
    "        entropies_list.append(expected_entropy_from_word(word, word_list = reduced_list))"
   ]
  },
  {
   "cell_type": "code",
   "execution_count": 56,
   "metadata": {},
   "outputs": [
    {
     "data": {
      "image/png": "[encoded data removed]",
      "text/plain": [
       "<Figure size 432x288 with 1 Axes>"
      ]
     },
     "metadata": {
      "needs_background": "light"
     },
     "output_type": "display_data"
    }
   ],
   "source": [
    "bars = []\n",
    "fig = plt.figure()\n",
    "ax = fig.add_axes([0,0,1,1])\n",
    "for i in range(1, max(taken_tries)+1):\n",
    "    bars.append(taken_tries.count(i))\n",
    "ax.bar(range(1, max(taken_tries)+1), bars)\n",
    "plt.show()"
   ]
  },
  {
   "cell_type": "code",
   "execution_count": 11,
   "metadata": {},
   "outputs": [
    {
     "name": "stdout",
     "output_type": "stream",
     "text": [
      "Playing Wordle intensively [##################......................] | 1067/2309 [46%] in 39s (27.7/s, eta: 45s) "
     ]
    },
    {
     "ename": "NameError",
     "evalue": "name 'p' is not defined",
     "output_type": "error",
     "traceback": [
      "\u001b[0;31m---------------------------------------------------------------------------\u001b[0m",
      "\u001b[0;31mNameError\u001b[0m                                 Traceback (most recent call last)",
      "\u001b[0;32m<ipython-input-11-ee3727fbe593>\u001b[0m in \u001b[0;36m<module>\u001b[0;34m()\u001b[0m\n\u001b[0;32m----> 1\u001b[0;31m \u001b[0mp\u001b[0m\u001b[0;34m.\u001b[0m\u001b[0mstop\u001b[0m\u001b[0;34m\u001b[0m\u001b[0m\n\u001b[0m",
      "\u001b[0;31mNameError\u001b[0m: name 'p' is not defined"
     ]
    }
   ],
   "source": [
    "p.stop"
   ]
  }
 ],
 "metadata": {
  "interpreter": {
   "hash": "7a454b23527cf3ef36cd9b6cfb4aa4325c6dcfb2d823ee282ff94f77d152cd99"
  },
  "kernelspec": {
   "display_name": "Python 3.9.7 ('introDS')",
   "language": "python",
   "name": "python3"
  },
  "language_info": {
   "codemirror_mode": {
    "name": "ipython",
    "version": 3
   },
   "file_extension": ".py",
   "mimetype": "text/x-python",
   "name": "python",
   "nbconvert_exporter": "python",
   "pygments_lexer": "ipython3",
   "version": "3.9.7"
  },
  "orig_nbformat": 4
 },
 "nbformat": 4,
 "nbformat_minor": 2
}
